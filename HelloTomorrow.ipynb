{
 "cells": [
  {
   "cell_type": "code",
   "execution_count": null,
   "metadata": {},
   "outputs": [],
   "source": [
    "from qiskit import *\n",
    "import numpy as np\n",
    "%matplotlib notebook\n",
    "import hello_quantum\n",
    "import helper"
   ]
  },
  {
   "cell_type": "markdown",
   "metadata": {},
   "source": [
    "# Quantum Computing: Learning by doing\n",
    "\n",
    "### James R. Wootton, IBM Research - Zurich"
   ]
  },
  {
   "cell_type": "code",
   "execution_count": null,
   "metadata": {},
   "outputs": [],
   "source": [
    "helper.show('intro.jpg')"
   ]
  },
  {
   "cell_type": "markdown",
   "metadata": {},
   "source": [
    "## Who am I?\n",
    "\n",
    "\n",
    "* Researcher in quantum information and quantum computing since 2005\n",
    "\n",
    "\n",
    "* 2011-2018: Postdoc at the University of Basel, studying quantum error correction"
   ]
  },
  {
   "cell_type": "code",
   "execution_count": null,
   "metadata": {},
   "outputs": [],
   "source": [
    "helper.show('qec.png')"
   ]
  },
  {
   "cell_type": "markdown",
   "metadata": {},
   "source": [
    "* In 2016, I also made a citizen science game to get people involved"
   ]
  },
  {
   "cell_type": "code",
   "execution_count": null,
   "metadata": {
    "scrolled": false
   },
   "outputs": [],
   "source": [
    "helper.show('decodoku.png')"
   ]
  },
  {
   "cell_type": "markdown",
   "metadata": {},
   "source": [
    "* Then IBM released the *IBM Q Experience*."
   ]
  },
  {
   "cell_type": "code",
   "execution_count": null,
   "metadata": {},
   "outputs": [],
   "source": [
    "helper.show('qx.png')"
   ]
  },
  {
   "cell_type": "code",
   "execution_count": null,
   "metadata": {},
   "outputs": [],
   "source": [
    "helper.show('battleships.png')"
   ]
  },
  {
   "cell_type": "code",
   "execution_count": null,
   "metadata": {},
   "outputs": [],
   "source": [
    "helper.show('history.png')"
   ]
  },
  {
   "cell_type": "markdown",
   "metadata": {},
   "source": [
    "* 2017-2018: Collaboration with IBM on educational app"
   ]
  },
  {
   "cell_type": "code",
   "execution_count": null,
   "metadata": {},
   "outputs": [],
   "source": [
    "helper.show('hello_quantum.png')"
   ]
  },
  {
   "cell_type": "markdown",
   "metadata": {},
   "source": [
    "* Sept 2018 - now: Working for IBM, helping people do interesting and useful things with Qiskit"
   ]
  },
  {
   "cell_type": "code",
   "execution_count": null,
   "metadata": {},
   "outputs": [],
   "source": [
    "helper.show('qiskit.png')"
   ]
  },
  {
   "cell_type": "markdown",
   "metadata": {},
   "source": [
    "## What is a quantum computer?\n",
    "\n",
    "A computer that uses quantum variables"
   ]
  },
  {
   "cell_type": "code",
   "execution_count": null,
   "metadata": {},
   "outputs": [],
   "source": [
    "qubit = QuantumRegister(1)\n",
    "bit = ClassicalRegister(1)\n",
    "program = QuantumCircuit(qubit,bit)\n",
    "\n",
    "#program.x( qubit );\n",
    "#program.h( qubit );\n",
    "#program.ry( np.pi/4, qubit );\n",
    "\n",
    "helper.set_output( program, qubit, bit, type='Z' )\n",
    "\n",
    "helper.display_outputs(program,hist=False)"
   ]
  },
  {
   "cell_type": "code",
   "execution_count": null,
   "metadata": {},
   "outputs": [],
   "source": [
    "initialize = []\n",
    "success_condition = {'IZ':1.0,'IX':1.0}\n",
    "allowed_gates = {'0': {'x':0,'ry(pi/4)': 0,'h':0,'cx':0}, '1': {'x':0,'ry(pi/4)': 0,'h':0,'cx':0}, 'both': {}}\n",
    "vi = [[], True, True]\n",
    "qubit_names = {'0':'qubit 0', '1':'qubit 1'}\n",
    "puzzle = hello_quantum.run_game(initialize, success_condition, allowed_gates, vi, qubit_names,shots=1024,verbose=False)"
   ]
  },
  {
   "cell_type": "markdown",
   "metadata": {},
   "source": [
    "* For more puzzles, go to\n",
    "###  *ibm.biz/hello-qiskit*"
   ]
  },
  {
   "cell_type": "markdown",
   "metadata": {},
   "source": [
    "### Doing the impossible with two qubits\n",
    "#### (the more visual but less convincing version)"
   ]
  },
  {
   "cell_type": "code",
   "execution_count": null,
   "metadata": {},
   "outputs": [],
   "source": [
    "initialize = [['ry(pi/4)','0'],['cx','1'],['h','0'],['h','1'],['cz','0']]\n",
    "success_condition = {'IZ':1.0,'IX':1.0}\n",
    "allowed_gates = {'0': {'x':0,'ry(pi/4)': 0,'h':0,'cx':0}, '1': {'x':0,'ry(pi/4)': 0,'h':0,'cx':0}, 'both': {}}\n",
    "vi = [[], True, True]\n",
    "qubit_names = {'0':'qubit 0', '1':'qubit 1'}\n",
    "puzzle = hello_quantum.run_game(initialize, success_condition, allowed_gates, vi, qubit_names,shots=1024,verbose=False)"
   ]
  },
  {
   "cell_type": "markdown",
   "metadata": {},
   "source": [
    "#### (the less visual but more convincing version)"
   ]
  },
  {
   "cell_type": "code",
   "execution_count": null,
   "metadata": {},
   "outputs": [],
   "source": [
    "qubit = QuantumRegister(2)\n",
    "bit = ClassicalRegister(2)\n",
    "program = QuantumCircuit(qubit,bit)\n",
    "\n",
    "vector = [0, 1 / np.sqrt(3), 1 / np.sqrt(3), 1 / np.sqrt(3) ]\n",
    "program.initialize( vector, qubit );\n",
    "\n",
    "helper.set_output( program, qubit[0], bit[0], type='Z' )\n",
    "helper.set_output( program, qubit[1], bit[1], type='Z' )\n",
    "\n",
    "helper.display_outputs(program)"
   ]
  },
  {
   "cell_type": "markdown",
   "metadata": {},
   "source": [
    "* $Z$ outputs cannot be `0` at the same time\n",
    "\n",
    "\n",
    "* If the $X$ output of one qubit is $1$, the $Z$ output of the other must be $0$.\n",
    "\n",
    "\n",
    "* $\\implies$ it is impossible for both $X$ outputs to be `1`\n",
    "\n",
    "\n"
   ]
  },
  {
   "cell_type": "markdown",
   "metadata": {},
   "source": [
    "## IBM has devices online"
   ]
  },
  {
   "cell_type": "code",
   "execution_count": null,
   "metadata": {},
   "outputs": [],
   "source": [
    "helper.show('tenerife.png')"
   ]
  },
  {
   "cell_type": "code",
   "execution_count": null,
   "metadata": {},
   "outputs": [],
   "source": [
    "helper.show('rueschlikon.png')"
   ]
  },
  {
   "cell_type": "code",
   "execution_count": null,
   "metadata": {},
   "outputs": [],
   "source": [
    "helper.show('melbourne.png')"
   ]
  },
  {
   "cell_type": "code",
   "execution_count": null,
   "metadata": {},
   "outputs": [],
   "source": [
    "helper.show('tokyo.png')"
   ]
  },
  {
   "cell_type": "markdown",
   "metadata": {},
   "source": [
    "## Qubit number is not the only important property"
   ]
  },
  {
   "cell_type": "code",
   "execution_count": null,
   "metadata": {},
   "outputs": [],
   "source": [
    "helper.show('melbourne_stats.png')"
   ]
  },
  {
   "cell_type": "code",
   "execution_count": null,
   "metadata": {},
   "outputs": [],
   "source": [
    "helper.show('rueschlikon_stats.png')"
   ]
  },
  {
   "cell_type": "code",
   "execution_count": null,
   "metadata": {},
   "outputs": [],
   "source": [
    "helper.show('tokyo.png')"
   ]
  },
  {
   "cell_type": "markdown",
   "metadata": {},
   "source": [
    "* Key challenge of the NISQ era: Tailor applications to devices\n",
    "\n",
    "\n",
    "* Let us do it for you with **Qiskit Aqua**, or do it for yourself with **Qiskit Terra** and (soon) **Qiskit Ignis** and **OpenPulse**."
   ]
  },
  {
   "cell_type": "markdown",
   "metadata": {},
   "source": [
    "## Best way to understand today's devices: try them for yourself\n",
    "\n",
    "###  *github.com/Qiskit/qiskit-tutorial*"
   ]
  },
  {
   "cell_type": "markdown",
   "metadata": {},
   "source": [
    "\n",
    "<img src=\"images/qiskit-heading.png\" >\n",
    "\n",
    "***\n",
    "\n",
    "\n",
    "# Qiskit Tutorials\n",
    "\n",
    "\n",
    "## Contents\n",
    "We have organized the tutorials into two sections:\n",
    "\n",
    "### 1. [Qiskit notebooks](qiskit/)<a id='qiskit'></a>\n",
    "We've collected a core reference set of notebooks in this section outlining the features of Qiskit. We will be keeping them up to date with the latest Qiskit version, currently version 0.6.  \n",
    "- [Basics](qiskit/basics) is meant for those who are getting started.\n",
    "- [Terra](qiskit/terra) is meant for those who want to study circuits.\n",
    "- [Ignis](qiskit/ignis) is meant for those who want to study noise.\n",
    "- [Aqua](qiskit/aqua) is meant for those who want to develop applications on NISQ computers. \n",
    "\n",
    "### 2. [Community notebooks](community/)<a id='community'></a>\n",
    "Teaching quantum computing and qiskit has many different paths of learning. We love our community, and we love the contributions so keep them coming. Because Qiskit is changing so much, at the moment we cant keep this updated, but there are some great notebooks in here. See: \n",
    "- [Hello, Quantum World](community/hello_world/) learn from the community how to write your first quantum program.\n",
    "- [Quantum Games](community/games/), learn quantum computing by having fun.\n",
    "- [Quantum Information Science with Terra](community/terra/), learn about quantum information science with Qiskit Terra. \n",
    "- [Textbook Quantum Algorithms](community/algorithms/), learn Qiskit from the textbook algorithms. \n",
    "- [Quantum Algorithms](community/aqua/), learn about quantum algorithms for noisy near-term devices with Qiskit Aqua.\n",
    "- [Teach Me Qiskit 2018](community/teach_me_qiskit_2018/), learn from the great contributions to the [Teach Me Qiskit award](https://www.ibm.com/blogs/research/2018/06/teach-qiskit-winner/).\n",
    "\n",
    "To go through the tutorials, load up the [index.ipynb](index.ipynb) notebook and start learning. \n",
    "\n",
    "*** \n",
    "\n",
    "## Contributing\n",
    "If you would like to contribute to the tutorials, there are a number of ways to get involved:\n",
    "\n",
    "* **Issues**: Issues can be reported with GitHub [issue reporting](https://github.com/Qiskit/qiskit-tutorial/issues) for this repository. Select `New issue`, fill in a descriptive title, and provide as much detail as is needed for the issue to be reproduced.\n",
    "* **Notebooks**: If you would like to contribute a notebook, please create a [fork](https://help.github.com/articles/fork-a-repo/) of the repository from the `master` branch and create a [pull request](https://help.github.com/articles/about-pull-requests/) for your change. Note that new notebooks should be placed in the relevant part of the [Community](community/) section. \n",
    "\n",
    "## Contributors\n",
    "These tutorials are the work of our [Qiskitters](https://github.com/Qiskit/qiskit-tutorial/graphs/contributors) who contribute to the project at different levels.\n",
    "\n",
    "## License\n",
    "This project is licensed under the Apache License 2.0 - see the [LICENSE](https://github.com/QISKit/qiskit-tutorial/blob/master/LICENSE) file for details.\n"
   ]
  }
 ],
 "metadata": {
  "kernelspec": {
   "display_name": "Python 3",
   "language": "python",
   "name": "python3"
  },
  "language_info": {
   "codemirror_mode": {
    "name": "ipython",
    "version": 3
   },
   "file_extension": ".py",
   "mimetype": "text/x-python",
   "name": "python",
   "nbconvert_exporter": "python",
   "pygments_lexer": "ipython3",
   "version": "3.7.0"
  }
 },
 "nbformat": 4,
 "nbformat_minor": 2
}
